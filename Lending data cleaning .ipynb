{
 "cells": [
  {
   "cell_type": "code",
   "execution_count": 1,
   "metadata": {},
   "outputs": [],
   "source": [
    "import pandas as pd\n",
    "import numpy as np"
   ]
  },
  {
   "cell_type": "code",
   "execution_count": 2,
   "metadata": {},
   "outputs": [],
   "source": [
    "df = pd.read_excel('/Users/sameerkhan/Documents/DATA CLEANING/Lending Data.xlsx')"
   ]
  },
  {
   "cell_type": "code",
   "execution_count": 3,
   "metadata": {},
   "outputs": [
    {
     "output_type": "execute_result",
     "data": {
      "text/plain": [
       "                          Name of Lending Institution HQ State Rank TA Ratio1  \\\n",
       "0                                                 NaN      NaN   -1        -2   \n",
       "1                               American Express Co.       NY     1   0.23829   \n",
       "2                            First Citizens Banchares      NC     2  0.187393   \n",
       "3                            Wintrust Financial Corp.      IL     3  0.168999   \n",
       "4                                       Zions Bancorp      UT     4  0.117973   \n",
       "..                                                ...      ...  ...       ...   \n",
       "92                     Charles Schwab Bk                    NV   NR         -   \n",
       "93                     Third FS&LA                          OH   NR         -   \n",
       "94  *The bank was formerly known as GE Money Bank,...      NaN  NaN       NaN   \n",
       "95  1 TA = total domestic assets held by the lende...      NaN  NaN       NaN   \n",
       "96  Source: U.S. Small Business Administration, Of...      NaN  NaN       NaN   \n",
       "\n",
       "   TBL Ratio1 Amount ($1,000)  Number      Lender Asset Size  \\\n",
       "0          -3              -4       -5                    -6   \n",
       "1    0.999544        16350038  3603226  >$50B                  \n",
       "2     0.49083         3914507   117702  $10B-$50B              \n",
       "3    0.383561         2842793   136801  $10B-$50B              \n",
       "4    0.260577         6231770    52612  >$50B                  \n",
       "..        ...             ...      ...                   ...   \n",
       "92          -               -        -  >$10B                  \n",
       "93          -               -        -  >$10B                  \n",
       "94        NaN             NaN      NaN                   NaN   \n",
       "95        NaN             NaN      NaN                   NaN   \n",
       "96        NaN             NaN      NaN                   NaN   \n",
       "\n",
       "    Amount ($1,000).1  Number .1  Unnamed: 10  Amount ($1,000).2  Number .2  \\\n",
       "0                -7.0       -8.0          NaN               -9.0      -10.0   \n",
       "1          16318089.0  3603088.0          NaN            31949.0      138.0   \n",
       "2            378394.0   105081.0          NaN          3536113.0    12621.0   \n",
       "3            800526.0   126455.0          NaN          2042267.0    10346.0   \n",
       "4            526206.0    32973.0          NaN          5705564.0    19639.0   \n",
       "..                ...        ...          ...                ...        ...   \n",
       "92                0.0        0.0          NaN                0.0        0.0   \n",
       "93                0.0        0.0          NaN                0.0        0.0   \n",
       "94                NaN        NaN          NaN                NaN        NaN   \n",
       "95                NaN        NaN          NaN                NaN        NaN   \n",
       "96                NaN        NaN          NaN                NaN        NaN   \n",
       "\n",
       "   CC Amount/TA1  \n",
       "0            -11  \n",
       "1           0.28  \n",
       "2            .    \n",
       "3              0  \n",
       "4              0  \n",
       "..           ...  \n",
       "92           .    \n",
       "93           .    \n",
       "94           NaN  \n",
       "95           NaN  \n",
       "96           NaN  \n",
       "\n",
       "[97 rows x 14 columns]"
      ],
      "text/html": "<div>\n<style scoped>\n    .dataframe tbody tr th:only-of-type {\n        vertical-align: middle;\n    }\n\n    .dataframe tbody tr th {\n        vertical-align: top;\n    }\n\n    .dataframe thead th {\n        text-align: right;\n    }\n</style>\n<table border=\"1\" class=\"dataframe\">\n  <thead>\n    <tr style=\"text-align: right;\">\n      <th></th>\n      <th>Name of Lending Institution</th>\n      <th>HQ State</th>\n      <th>Rank</th>\n      <th>TA Ratio1</th>\n      <th>TBL Ratio1</th>\n      <th>Amount ($1,000)</th>\n      <th>Number</th>\n      <th>Lender Asset Size</th>\n      <th>Amount ($1,000).1</th>\n      <th>Number .1</th>\n      <th>Unnamed: 10</th>\n      <th>Amount ($1,000).2</th>\n      <th>Number .2</th>\n      <th>CC Amount/TA1</th>\n    </tr>\n  </thead>\n  <tbody>\n    <tr>\n      <th>0</th>\n      <td>NaN</td>\n      <td>NaN</td>\n      <td>-1</td>\n      <td>-2</td>\n      <td>-3</td>\n      <td>-4</td>\n      <td>-5</td>\n      <td>-6</td>\n      <td>-7.0</td>\n      <td>-8.0</td>\n      <td>NaN</td>\n      <td>-9.0</td>\n      <td>-10.0</td>\n      <td>-11</td>\n    </tr>\n    <tr>\n      <th>1</th>\n      <td>American Express Co.</td>\n      <td>NY</td>\n      <td>1</td>\n      <td>0.23829</td>\n      <td>0.999544</td>\n      <td>16350038</td>\n      <td>3603226</td>\n      <td>&gt;$50B</td>\n      <td>16318089.0</td>\n      <td>3603088.0</td>\n      <td>NaN</td>\n      <td>31949.0</td>\n      <td>138.0</td>\n      <td>0.28</td>\n    </tr>\n    <tr>\n      <th>2</th>\n      <td>First Citizens Banchares</td>\n      <td>NC</td>\n      <td>2</td>\n      <td>0.187393</td>\n      <td>0.49083</td>\n      <td>3914507</td>\n      <td>117702</td>\n      <td>$10B-$50B</td>\n      <td>378394.0</td>\n      <td>105081.0</td>\n      <td>NaN</td>\n      <td>3536113.0</td>\n      <td>12621.0</td>\n      <td>.</td>\n    </tr>\n    <tr>\n      <th>3</th>\n      <td>Wintrust Financial Corp.</td>\n      <td>IL</td>\n      <td>3</td>\n      <td>0.168999</td>\n      <td>0.383561</td>\n      <td>2842793</td>\n      <td>136801</td>\n      <td>$10B-$50B</td>\n      <td>800526.0</td>\n      <td>126455.0</td>\n      <td>NaN</td>\n      <td>2042267.0</td>\n      <td>10346.0</td>\n      <td>0</td>\n    </tr>\n    <tr>\n      <th>4</th>\n      <td>Zions Bancorp</td>\n      <td>UT</td>\n      <td>4</td>\n      <td>0.117973</td>\n      <td>0.260577</td>\n      <td>6231770</td>\n      <td>52612</td>\n      <td>&gt;$50B</td>\n      <td>526206.0</td>\n      <td>32973.0</td>\n      <td>NaN</td>\n      <td>5705564.0</td>\n      <td>19639.0</td>\n      <td>0</td>\n    </tr>\n    <tr>\n      <th>...</th>\n      <td>...</td>\n      <td>...</td>\n      <td>...</td>\n      <td>...</td>\n      <td>...</td>\n      <td>...</td>\n      <td>...</td>\n      <td>...</td>\n      <td>...</td>\n      <td>...</td>\n      <td>...</td>\n      <td>...</td>\n      <td>...</td>\n      <td>...</td>\n    </tr>\n    <tr>\n      <th>92</th>\n      <td>Charles Schwab Bk</td>\n      <td>NV</td>\n      <td>NR</td>\n      <td>-</td>\n      <td>-</td>\n      <td>-</td>\n      <td>-</td>\n      <td>&gt;$10B</td>\n      <td>0.0</td>\n      <td>0.0</td>\n      <td>NaN</td>\n      <td>0.0</td>\n      <td>0.0</td>\n      <td>.</td>\n    </tr>\n    <tr>\n      <th>93</th>\n      <td>Third FS&amp;LA</td>\n      <td>OH</td>\n      <td>NR</td>\n      <td>-</td>\n      <td>-</td>\n      <td>-</td>\n      <td>-</td>\n      <td>&gt;$10B</td>\n      <td>0.0</td>\n      <td>0.0</td>\n      <td>NaN</td>\n      <td>0.0</td>\n      <td>0.0</td>\n      <td>.</td>\n    </tr>\n    <tr>\n      <th>94</th>\n      <td>*The bank was formerly known as GE Money Bank,...</td>\n      <td>NaN</td>\n      <td>NaN</td>\n      <td>NaN</td>\n      <td>NaN</td>\n      <td>NaN</td>\n      <td>NaN</td>\n      <td>NaN</td>\n      <td>NaN</td>\n      <td>NaN</td>\n      <td>NaN</td>\n      <td>NaN</td>\n      <td>NaN</td>\n      <td>NaN</td>\n    </tr>\n    <tr>\n      <th>95</th>\n      <td>1 TA = total domestic assets held by the lende...</td>\n      <td>NaN</td>\n      <td>NaN</td>\n      <td>NaN</td>\n      <td>NaN</td>\n      <td>NaN</td>\n      <td>NaN</td>\n      <td>NaN</td>\n      <td>NaN</td>\n      <td>NaN</td>\n      <td>NaN</td>\n      <td>NaN</td>\n      <td>NaN</td>\n      <td>NaN</td>\n    </tr>\n    <tr>\n      <th>96</th>\n      <td>Source: U.S. Small Business Administration, Of...</td>\n      <td>NaN</td>\n      <td>NaN</td>\n      <td>NaN</td>\n      <td>NaN</td>\n      <td>NaN</td>\n      <td>NaN</td>\n      <td>NaN</td>\n      <td>NaN</td>\n      <td>NaN</td>\n      <td>NaN</td>\n      <td>NaN</td>\n      <td>NaN</td>\n      <td>NaN</td>\n    </tr>\n  </tbody>\n</table>\n<p>97 rows × 14 columns</p>\n</div>"
     },
     "metadata": {},
     "execution_count": 3
    }
   ],
   "source": [
    "df"
   ]
  },
  {
   "cell_type": "code",
   "execution_count": 4,
   "metadata": {},
   "outputs": [
    {
     "output_type": "execute_result",
     "data": {
      "text/plain": [
       "<bound method NDFrame.describe of                           Name of Lending Institution HQ State Rank TA Ratio1  \\\n",
       "0                                                 NaN      NaN   -1        -2   \n",
       "1                               American Express Co.       NY     1   0.23829   \n",
       "2                            First Citizens Banchares      NC     2  0.187393   \n",
       "3                            Wintrust Financial Corp.      IL     3  0.168999   \n",
       "4                                       Zions Bancorp      UT     4  0.117973   \n",
       "..                                                ...      ...  ...       ...   \n",
       "92                     Charles Schwab Bk                    NV   NR         -   \n",
       "93                     Third FS&LA                          OH   NR         -   \n",
       "94  *The bank was formerly known as GE Money Bank,...      NaN  NaN       NaN   \n",
       "95  1 TA = total domestic assets held by the lende...      NaN  NaN       NaN   \n",
       "96  Source: U.S. Small Business Administration, Of...      NaN  NaN       NaN   \n",
       "\n",
       "   TBL Ratio1 Amount ($1,000)  Number      Lender Asset Size  \\\n",
       "0          -3              -4       -5                    -6   \n",
       "1    0.999544        16350038  3603226  >$50B                  \n",
       "2     0.49083         3914507   117702  $10B-$50B              \n",
       "3    0.383561         2842793   136801  $10B-$50B              \n",
       "4    0.260577         6231770    52612  >$50B                  \n",
       "..        ...             ...      ...                   ...   \n",
       "92          -               -        -  >$10B                  \n",
       "93          -               -        -  >$10B                  \n",
       "94        NaN             NaN      NaN                   NaN   \n",
       "95        NaN             NaN      NaN                   NaN   \n",
       "96        NaN             NaN      NaN                   NaN   \n",
       "\n",
       "    Amount ($1,000).1  Number .1  Unnamed: 10  Amount ($1,000).2  Number .2  \\\n",
       "0                -7.0       -8.0          NaN               -9.0      -10.0   \n",
       "1          16318089.0  3603088.0          NaN            31949.0      138.0   \n",
       "2            378394.0   105081.0          NaN          3536113.0    12621.0   \n",
       "3            800526.0   126455.0          NaN          2042267.0    10346.0   \n",
       "4            526206.0    32973.0          NaN          5705564.0    19639.0   \n",
       "..                ...        ...          ...                ...        ...   \n",
       "92                0.0        0.0          NaN                0.0        0.0   \n",
       "93                0.0        0.0          NaN                0.0        0.0   \n",
       "94                NaN        NaN          NaN                NaN        NaN   \n",
       "95                NaN        NaN          NaN                NaN        NaN   \n",
       "96                NaN        NaN          NaN                NaN        NaN   \n",
       "\n",
       "   CC Amount/TA1  \n",
       "0            -11  \n",
       "1           0.28  \n",
       "2            .    \n",
       "3              0  \n",
       "4              0  \n",
       "..           ...  \n",
       "92           .    \n",
       "93           .    \n",
       "94           NaN  \n",
       "95           NaN  \n",
       "96           NaN  \n",
       "\n",
       "[97 rows x 14 columns]>"
      ]
     },
     "metadata": {},
     "execution_count": 4
    }
   ],
   "source": [
    "df.describe"
   ]
  },
  {
   "cell_type": "code",
   "execution_count": 5,
   "metadata": {},
   "outputs": [],
   "source": [
    "df1 = df.drop(0) "
   ]
  },
  {
   "cell_type": "code",
   "execution_count": 25,
   "metadata": {},
   "outputs": [
    {
     "output_type": "execute_result",
     "data": {
      "text/plain": [
       "                          Name of Lending Institution HQ State Rank TA Ratio1  \\\n",
       "1                               American Express Co.       NY     1   0.23829   \n",
       "2                            First Citizens Banchares      NC     2  0.187393   \n",
       "3                            Wintrust Financial Corp.      IL     3  0.168999   \n",
       "4                                       Zions Bancorp      UT     4  0.117973   \n",
       "5                             Synovus Financial Corp.      GA     5  0.162333   \n",
       "..                                                ...      ...  ...       ...   \n",
       "92                     Charles Schwab Bk                    NV   NR         -   \n",
       "93                     Third FS&LA                          OH   NR         -   \n",
       "94  *The bank was formerly known as GE Money Bank,...      NaN  NaN       NaN   \n",
       "95  1 TA = total domestic assets held by the lende...      NaN  NaN       NaN   \n",
       "96  Source: U.S. Small Business Administration, Of...      NaN  NaN       NaN   \n",
       "\n",
       "   TBL Ratio1 Amount ($1,000)  Number      Lender Asset Size  \\\n",
       "1    0.999544        16350038  3603226  >$50B                  \n",
       "2     0.49083         3914507   117702  $10B-$50B              \n",
       "3    0.383561         2842793   136801  $10B-$50B              \n",
       "4    0.260577         6231770    52612  >$50B                  \n",
       "5    0.381387         4227168    22675  $10B-$50B              \n",
       "..        ...             ...      ...                   ...   \n",
       "92          -               -        -  >$10B                  \n",
       "93          -               -        -  >$10B                  \n",
       "94        NaN             NaN      NaN                   NaN   \n",
       "95        NaN             NaN      NaN                   NaN   \n",
       "96        NaN             NaN      NaN                   NaN   \n",
       "\n",
       "    Amount ($1,000).1  Number .1  Unnamed: 10  Amount ($1,000).2  Number .2  \\\n",
       "1          16318089.0  3603088.0          NaN            31949.0      138.0   \n",
       "2            378394.0   105081.0          NaN          3536113.0    12621.0   \n",
       "3            800526.0   126455.0          NaN          2042267.0    10346.0   \n",
       "4            526206.0    32973.0          NaN          5705564.0    19639.0   \n",
       "5            539666.0     9593.0          NaN          3687502.0    13082.0   \n",
       "..                ...        ...          ...                ...        ...   \n",
       "92                0.0        0.0          NaN                0.0        0.0   \n",
       "93                0.0        0.0          NaN                0.0        0.0   \n",
       "94                NaN        NaN          NaN                NaN        NaN   \n",
       "95                NaN        NaN          NaN                NaN        NaN   \n",
       "96                NaN        NaN          NaN                NaN        NaN   \n",
       "\n",
       "   CC Amount/TA1  \n",
       "1           0.28  \n",
       "2            .    \n",
       "3              0  \n",
       "4              0  \n",
       "5           0.01  \n",
       "..           ...  \n",
       "92           .    \n",
       "93           .    \n",
       "94           NaN  \n",
       "95           NaN  \n",
       "96           NaN  \n",
       "\n",
       "[96 rows x 14 columns]"
      ],
      "text/html": "<div>\n<style scoped>\n    .dataframe tbody tr th:only-of-type {\n        vertical-align: middle;\n    }\n\n    .dataframe tbody tr th {\n        vertical-align: top;\n    }\n\n    .dataframe thead th {\n        text-align: right;\n    }\n</style>\n<table border=\"1\" class=\"dataframe\">\n  <thead>\n    <tr style=\"text-align: right;\">\n      <th></th>\n      <th>Name of Lending Institution</th>\n      <th>HQ State</th>\n      <th>Rank</th>\n      <th>TA Ratio1</th>\n      <th>TBL Ratio1</th>\n      <th>Amount ($1,000)</th>\n      <th>Number</th>\n      <th>Lender Asset Size</th>\n      <th>Amount ($1,000).1</th>\n      <th>Number .1</th>\n      <th>Unnamed: 10</th>\n      <th>Amount ($1,000).2</th>\n      <th>Number .2</th>\n      <th>CC Amount/TA1</th>\n    </tr>\n  </thead>\n  <tbody>\n    <tr>\n      <th>1</th>\n      <td>American Express Co.</td>\n      <td>NY</td>\n      <td>1</td>\n      <td>0.23829</td>\n      <td>0.999544</td>\n      <td>16350038</td>\n      <td>3603226</td>\n      <td>&gt;$50B</td>\n      <td>16318089.0</td>\n      <td>3603088.0</td>\n      <td>NaN</td>\n      <td>31949.0</td>\n      <td>138.0</td>\n      <td>0.28</td>\n    </tr>\n    <tr>\n      <th>2</th>\n      <td>First Citizens Banchares</td>\n      <td>NC</td>\n      <td>2</td>\n      <td>0.187393</td>\n      <td>0.49083</td>\n      <td>3914507</td>\n      <td>117702</td>\n      <td>$10B-$50B</td>\n      <td>378394.0</td>\n      <td>105081.0</td>\n      <td>NaN</td>\n      <td>3536113.0</td>\n      <td>12621.0</td>\n      <td>.</td>\n    </tr>\n    <tr>\n      <th>3</th>\n      <td>Wintrust Financial Corp.</td>\n      <td>IL</td>\n      <td>3</td>\n      <td>0.168999</td>\n      <td>0.383561</td>\n      <td>2842793</td>\n      <td>136801</td>\n      <td>$10B-$50B</td>\n      <td>800526.0</td>\n      <td>126455.0</td>\n      <td>NaN</td>\n      <td>2042267.0</td>\n      <td>10346.0</td>\n      <td>0</td>\n    </tr>\n    <tr>\n      <th>4</th>\n      <td>Zions Bancorp</td>\n      <td>UT</td>\n      <td>4</td>\n      <td>0.117973</td>\n      <td>0.260577</td>\n      <td>6231770</td>\n      <td>52612</td>\n      <td>&gt;$50B</td>\n      <td>526206.0</td>\n      <td>32973.0</td>\n      <td>NaN</td>\n      <td>5705564.0</td>\n      <td>19639.0</td>\n      <td>0</td>\n    </tr>\n    <tr>\n      <th>5</th>\n      <td>Synovus Financial Corp.</td>\n      <td>GA</td>\n      <td>5</td>\n      <td>0.162333</td>\n      <td>0.381387</td>\n      <td>4227168</td>\n      <td>22675</td>\n      <td>$10B-$50B</td>\n      <td>539666.0</td>\n      <td>9593.0</td>\n      <td>NaN</td>\n      <td>3687502.0</td>\n      <td>13082.0</td>\n      <td>0.01</td>\n    </tr>\n    <tr>\n      <th>...</th>\n      <td>...</td>\n      <td>...</td>\n      <td>...</td>\n      <td>...</td>\n      <td>...</td>\n      <td>...</td>\n      <td>...</td>\n      <td>...</td>\n      <td>...</td>\n      <td>...</td>\n      <td>...</td>\n      <td>...</td>\n      <td>...</td>\n      <td>...</td>\n    </tr>\n    <tr>\n      <th>92</th>\n      <td>Charles Schwab Bk</td>\n      <td>NV</td>\n      <td>NR</td>\n      <td>-</td>\n      <td>-</td>\n      <td>-</td>\n      <td>-</td>\n      <td>&gt;$10B</td>\n      <td>0.0</td>\n      <td>0.0</td>\n      <td>NaN</td>\n      <td>0.0</td>\n      <td>0.0</td>\n      <td>.</td>\n    </tr>\n    <tr>\n      <th>93</th>\n      <td>Third FS&amp;LA</td>\n      <td>OH</td>\n      <td>NR</td>\n      <td>-</td>\n      <td>-</td>\n      <td>-</td>\n      <td>-</td>\n      <td>&gt;$10B</td>\n      <td>0.0</td>\n      <td>0.0</td>\n      <td>NaN</td>\n      <td>0.0</td>\n      <td>0.0</td>\n      <td>.</td>\n    </tr>\n    <tr>\n      <th>94</th>\n      <td>*The bank was formerly known as GE Money Bank,...</td>\n      <td>NaN</td>\n      <td>NaN</td>\n      <td>NaN</td>\n      <td>NaN</td>\n      <td>NaN</td>\n      <td>NaN</td>\n      <td>NaN</td>\n      <td>NaN</td>\n      <td>NaN</td>\n      <td>NaN</td>\n      <td>NaN</td>\n      <td>NaN</td>\n      <td>NaN</td>\n    </tr>\n    <tr>\n      <th>95</th>\n      <td>1 TA = total domestic assets held by the lende...</td>\n      <td>NaN</td>\n      <td>NaN</td>\n      <td>NaN</td>\n      <td>NaN</td>\n      <td>NaN</td>\n      <td>NaN</td>\n      <td>NaN</td>\n      <td>NaN</td>\n      <td>NaN</td>\n      <td>NaN</td>\n      <td>NaN</td>\n      <td>NaN</td>\n      <td>NaN</td>\n    </tr>\n    <tr>\n      <th>96</th>\n      <td>Source: U.S. Small Business Administration, Of...</td>\n      <td>NaN</td>\n      <td>NaN</td>\n      <td>NaN</td>\n      <td>NaN</td>\n      <td>NaN</td>\n      <td>NaN</td>\n      <td>NaN</td>\n      <td>NaN</td>\n      <td>NaN</td>\n      <td>NaN</td>\n      <td>NaN</td>\n      <td>NaN</td>\n      <td>NaN</td>\n    </tr>\n  </tbody>\n</table>\n<p>96 rows × 14 columns</p>\n</div>"
     },
     "metadata": {},
     "execution_count": 25
    }
   ],
   "source": [
    "df1"
   ]
  },
  {
   "cell_type": "code",
   "execution_count": 6,
   "metadata": {},
   "outputs": [
    {
     "output_type": "execute_result",
     "data": {
      "text/plain": [
       "\"\\n1. Clean Rank with value  '0'. \\n\\n2. Clean '-' values with column mean\\n\\n3. Clean '.' with column mean\\n\\n4. Convert Lending Asset Size = Category like 0, 1, 2 etc based on levels available\\n\\n5. Provide me final report before data cleaning and after data cleaning\\n\\n6. Make sure every column in its respective data type. \\n\""
      ]
     },
     "metadata": {},
     "execution_count": 6
    }
   ],
   "source": [
    "'''\n",
    "1. Clean Rank with value  '0'. \n",
    "\n",
    "2. Clean '-' values with column mean\n",
    "\n",
    "3. Clean '.' with column mean\n",
    "\n",
    "4. Convert Lending Asset Size = Category like 0, 1, 2 etc based on levels available\n",
    "\n",
    "5. Provide me final report before data cleaning and after data cleaning\n",
    "\n",
    "6. Make sure every column in its respective data type. \n",
    "'''"
   ]
  },
  {
   "cell_type": "code",
   "execution_count": 30,
   "metadata": {},
   "outputs": [
    {
     "output_type": "execute_result",
     "data": {
      "text/plain": [
       "Name of Lending Institution     object\n",
       "HQ State                        object\n",
       "Rank                            object\n",
       "TA Ratio1                       object\n",
       "TBL Ratio1                      object\n",
       "Amount ($1,000)                 object\n",
       "Number                          object\n",
       "Lender Asset Size               object\n",
       "Amount ($1,000).1              float64\n",
       "Number .1                      float64\n",
       "Unnamed: 10                    float64\n",
       "Amount ($1,000).2              float64\n",
       "Number .2                      float64\n",
       "CC Amount/TA1                   object\n",
       "dtype: object"
      ]
     },
     "metadata": {},
     "execution_count": 30
    }
   ],
   "source": [
    "df.dtypes"
   ]
  },
  {
   "cell_type": "code",
   "execution_count": 7,
   "metadata": {},
   "outputs": [
    {
     "output_type": "execute_result",
     "data": {
      "text/plain": [
       "Name of Lending Institution     1\n",
       "HQ State                        4\n",
       "Rank                            3\n",
       "TA Ratio1                       3\n",
       "TBL Ratio1                      3\n",
       "Amount ($1,000)                 3\n",
       "Number                          3\n",
       "Lender Asset Size               3\n",
       "Amount ($1,000).1               3\n",
       "Number .1                       3\n",
       "Unnamed: 10                    97\n",
       "Amount ($1,000).2               3\n",
       "Number .2                       3\n",
       "CC Amount/TA1                   3\n",
       "dtype: int64"
      ]
     },
     "metadata": {},
     "execution_count": 7
    }
   ],
   "source": [
    "df.isnull().sum()\n",
    "#gives null values\n"
   ]
  },
  {
   "cell_type": "code",
   "execution_count": 8,
   "metadata": {},
   "outputs": [],
   "source": [
    "columns = df1.columns\n",
    "for i in columns:\n",
    "    if \"-\" in df1[i].values or '    .  ' in df1[i].values:\n",
    "        df1[i].replace(to_replace=[\"-\",'    .  '],value=np.nan,inplace=True)\n",
    "        df1[i].fillna(value=df1[i].mean(),inplace=True)"
   ]
  },
  {
   "cell_type": "code",
   "execution_count": 9,
   "metadata": {},
   "outputs": [
    {
     "output_type": "execute_result",
     "data": {
      "text/plain": [
       "                          Name of Lending Institution HQ State Rank  \\\n",
       "1                               American Express Co.       NY     1   \n",
       "2                            First Citizens Banchares      NC     2   \n",
       "3                            Wintrust Financial Corp.      IL     3   \n",
       "4                                       Zions Bancorp      UT     4   \n",
       "5                             Synovus Financial Corp.      GA     5   \n",
       "..                                                ...      ...  ...   \n",
       "92                     Charles Schwab Bk                    NV   NR   \n",
       "93                     Third FS&LA                          OH   NR   \n",
       "94  *The bank was formerly known as GE Money Bank,...      NaN  NaN   \n",
       "95  1 TA = total domestic assets held by the lende...      NaN  NaN   \n",
       "96  Source: U.S. Small Business Administration, Of...      NaN  NaN   \n",
       "\n",
       "    TA Ratio1  TBL Ratio1  Amount ($1,000)       Number   \\\n",
       "1    0.238290    0.999544     1.635004e+07  3.603226e+06   \n",
       "2    0.187393    0.490830     3.914507e+06  1.177020e+05   \n",
       "3    0.168999    0.383561     2.842793e+06  1.368010e+05   \n",
       "4    0.117973    0.260577     6.231770e+06  5.261200e+04   \n",
       "5    0.162333    0.381387     4.227168e+06  2.267500e+04   \n",
       "..        ...         ...              ...           ...   \n",
       "92   0.048668    0.251196     3.184791e+06  2.164190e+05   \n",
       "93   0.048668    0.251196     3.184791e+06  2.164190e+05   \n",
       "94   0.048668    0.251196     3.184791e+06  2.164190e+05   \n",
       "95   0.048668    0.251196     3.184791e+06  2.164190e+05   \n",
       "96   0.048668    0.251196     3.184791e+06  2.164190e+05   \n",
       "\n",
       "       Lender Asset Size  Amount ($1,000).1  Number .1  Unnamed: 10  \\\n",
       "1   >$50B                        16318089.0  3603088.0          NaN   \n",
       "2   $10B-$50B                      378394.0   105081.0          NaN   \n",
       "3   $10B-$50B                      800526.0   126455.0          NaN   \n",
       "4   >$50B                          526206.0    32973.0          NaN   \n",
       "5   $10B-$50B                      539666.0     9593.0          NaN   \n",
       "..                   ...                ...        ...          ...   \n",
       "92  >$10B                               0.0        0.0          NaN   \n",
       "93  >$10B                               0.0        0.0          NaN   \n",
       "94                   NaN                NaN        NaN          NaN   \n",
       "95                   NaN                NaN        NaN          NaN   \n",
       "96                   NaN                NaN        NaN          NaN   \n",
       "\n",
       "    Amount ($1,000).2  Number .2  CC Amount/TA1  \n",
       "1             31949.0      138.0        0.28000  \n",
       "2           3536113.0    12621.0        0.02087  \n",
       "3           2042267.0    10346.0        0.00000  \n",
       "4           5705564.0    19639.0        0.00000  \n",
       "5           3687502.0    13082.0        0.01000  \n",
       "..                ...        ...            ...  \n",
       "92                0.0        0.0        0.02087  \n",
       "93                0.0        0.0        0.02087  \n",
       "94                NaN        NaN        0.02087  \n",
       "95                NaN        NaN        0.02087  \n",
       "96                NaN        NaN        0.02087  \n",
       "\n",
       "[96 rows x 14 columns]"
      ],
      "text/html": "<div>\n<style scoped>\n    .dataframe tbody tr th:only-of-type {\n        vertical-align: middle;\n    }\n\n    .dataframe tbody tr th {\n        vertical-align: top;\n    }\n\n    .dataframe thead th {\n        text-align: right;\n    }\n</style>\n<table border=\"1\" class=\"dataframe\">\n  <thead>\n    <tr style=\"text-align: right;\">\n      <th></th>\n      <th>Name of Lending Institution</th>\n      <th>HQ State</th>\n      <th>Rank</th>\n      <th>TA Ratio1</th>\n      <th>TBL Ratio1</th>\n      <th>Amount ($1,000)</th>\n      <th>Number</th>\n      <th>Lender Asset Size</th>\n      <th>Amount ($1,000).1</th>\n      <th>Number .1</th>\n      <th>Unnamed: 10</th>\n      <th>Amount ($1,000).2</th>\n      <th>Number .2</th>\n      <th>CC Amount/TA1</th>\n    </tr>\n  </thead>\n  <tbody>\n    <tr>\n      <th>1</th>\n      <td>American Express Co.</td>\n      <td>NY</td>\n      <td>1</td>\n      <td>0.238290</td>\n      <td>0.999544</td>\n      <td>1.635004e+07</td>\n      <td>3.603226e+06</td>\n      <td>&gt;$50B</td>\n      <td>16318089.0</td>\n      <td>3603088.0</td>\n      <td>NaN</td>\n      <td>31949.0</td>\n      <td>138.0</td>\n      <td>0.28000</td>\n    </tr>\n    <tr>\n      <th>2</th>\n      <td>First Citizens Banchares</td>\n      <td>NC</td>\n      <td>2</td>\n      <td>0.187393</td>\n      <td>0.490830</td>\n      <td>3.914507e+06</td>\n      <td>1.177020e+05</td>\n      <td>$10B-$50B</td>\n      <td>378394.0</td>\n      <td>105081.0</td>\n      <td>NaN</td>\n      <td>3536113.0</td>\n      <td>12621.0</td>\n      <td>0.02087</td>\n    </tr>\n    <tr>\n      <th>3</th>\n      <td>Wintrust Financial Corp.</td>\n      <td>IL</td>\n      <td>3</td>\n      <td>0.168999</td>\n      <td>0.383561</td>\n      <td>2.842793e+06</td>\n      <td>1.368010e+05</td>\n      <td>$10B-$50B</td>\n      <td>800526.0</td>\n      <td>126455.0</td>\n      <td>NaN</td>\n      <td>2042267.0</td>\n      <td>10346.0</td>\n      <td>0.00000</td>\n    </tr>\n    <tr>\n      <th>4</th>\n      <td>Zions Bancorp</td>\n      <td>UT</td>\n      <td>4</td>\n      <td>0.117973</td>\n      <td>0.260577</td>\n      <td>6.231770e+06</td>\n      <td>5.261200e+04</td>\n      <td>&gt;$50B</td>\n      <td>526206.0</td>\n      <td>32973.0</td>\n      <td>NaN</td>\n      <td>5705564.0</td>\n      <td>19639.0</td>\n      <td>0.00000</td>\n    </tr>\n    <tr>\n      <th>5</th>\n      <td>Synovus Financial Corp.</td>\n      <td>GA</td>\n      <td>5</td>\n      <td>0.162333</td>\n      <td>0.381387</td>\n      <td>4.227168e+06</td>\n      <td>2.267500e+04</td>\n      <td>$10B-$50B</td>\n      <td>539666.0</td>\n      <td>9593.0</td>\n      <td>NaN</td>\n      <td>3687502.0</td>\n      <td>13082.0</td>\n      <td>0.01000</td>\n    </tr>\n    <tr>\n      <th>...</th>\n      <td>...</td>\n      <td>...</td>\n      <td>...</td>\n      <td>...</td>\n      <td>...</td>\n      <td>...</td>\n      <td>...</td>\n      <td>...</td>\n      <td>...</td>\n      <td>...</td>\n      <td>...</td>\n      <td>...</td>\n      <td>...</td>\n      <td>...</td>\n    </tr>\n    <tr>\n      <th>92</th>\n      <td>Charles Schwab Bk</td>\n      <td>NV</td>\n      <td>NR</td>\n      <td>0.048668</td>\n      <td>0.251196</td>\n      <td>3.184791e+06</td>\n      <td>2.164190e+05</td>\n      <td>&gt;$10B</td>\n      <td>0.0</td>\n      <td>0.0</td>\n      <td>NaN</td>\n      <td>0.0</td>\n      <td>0.0</td>\n      <td>0.02087</td>\n    </tr>\n    <tr>\n      <th>93</th>\n      <td>Third FS&amp;LA</td>\n      <td>OH</td>\n      <td>NR</td>\n      <td>0.048668</td>\n      <td>0.251196</td>\n      <td>3.184791e+06</td>\n      <td>2.164190e+05</td>\n      <td>&gt;$10B</td>\n      <td>0.0</td>\n      <td>0.0</td>\n      <td>NaN</td>\n      <td>0.0</td>\n      <td>0.0</td>\n      <td>0.02087</td>\n    </tr>\n    <tr>\n      <th>94</th>\n      <td>*The bank was formerly known as GE Money Bank,...</td>\n      <td>NaN</td>\n      <td>NaN</td>\n      <td>0.048668</td>\n      <td>0.251196</td>\n      <td>3.184791e+06</td>\n      <td>2.164190e+05</td>\n      <td>NaN</td>\n      <td>NaN</td>\n      <td>NaN</td>\n      <td>NaN</td>\n      <td>NaN</td>\n      <td>NaN</td>\n      <td>0.02087</td>\n    </tr>\n    <tr>\n      <th>95</th>\n      <td>1 TA = total domestic assets held by the lende...</td>\n      <td>NaN</td>\n      <td>NaN</td>\n      <td>0.048668</td>\n      <td>0.251196</td>\n      <td>3.184791e+06</td>\n      <td>2.164190e+05</td>\n      <td>NaN</td>\n      <td>NaN</td>\n      <td>NaN</td>\n      <td>NaN</td>\n      <td>NaN</td>\n      <td>NaN</td>\n      <td>0.02087</td>\n    </tr>\n    <tr>\n      <th>96</th>\n      <td>Source: U.S. Small Business Administration, Of...</td>\n      <td>NaN</td>\n      <td>NaN</td>\n      <td>0.048668</td>\n      <td>0.251196</td>\n      <td>3.184791e+06</td>\n      <td>2.164190e+05</td>\n      <td>NaN</td>\n      <td>NaN</td>\n      <td>NaN</td>\n      <td>NaN</td>\n      <td>NaN</td>\n      <td>NaN</td>\n      <td>0.02087</td>\n    </tr>\n  </tbody>\n</table>\n<p>96 rows × 14 columns</p>\n</div>"
     },
     "metadata": {},
     "execution_count": 9
    }
   ],
   "source": [
    "df1"
   ]
  },
  {
   "cell_type": "code",
   "execution_count": 10,
   "metadata": {},
   "outputs": [],
   "source": [
    "if 'Lender Asset Size' in df1.columns:\n",
    "    df1['Lender Asset Size'].replace(to_replace=['>$10B               ','$10B-$50B           ', '>$50B               '],value=[0,1,2],inplace=True,limit=None,regex=False,method='pad')"
   ]
  },
  {
   "cell_type": "code",
   "execution_count": 45,
   "metadata": {},
   "outputs": [
    {
     "output_type": "execute_result",
     "data": {
      "text/plain": [
       "                          Name of Lending Institution HQ State Rank  \\\n",
       "1                               American Express Co.       NY     1   \n",
       "2                            First Citizens Banchares      NC     2   \n",
       "3                            Wintrust Financial Corp.      IL     3   \n",
       "4                                       Zions Bancorp      UT     4   \n",
       "5                             Synovus Financial Corp.      GA     5   \n",
       "..                                                ...      ...  ...   \n",
       "92                     Charles Schwab Bk                    NV   NR   \n",
       "93                     Third FS&LA                          OH   NR   \n",
       "94  *The bank was formerly known as GE Money Bank,...      NaN  NaN   \n",
       "95  1 TA = total domestic assets held by the lende...      NaN  NaN   \n",
       "96  Source: U.S. Small Business Administration, Of...      NaN  NaN   \n",
       "\n",
       "    TA Ratio1  TBL Ratio1  Amount ($1,000)       Number   Lender Asset Size  \\\n",
       "1    0.238290    0.999544     1.635004e+07  3.603226e+06                2.0   \n",
       "2    0.187393    0.490830     3.914507e+06  1.177020e+05                1.0   \n",
       "3    0.168999    0.383561     2.842793e+06  1.368010e+05                1.0   \n",
       "4    0.117973    0.260577     6.231770e+06  5.261200e+04                2.0   \n",
       "5    0.162333    0.381387     4.227168e+06  2.267500e+04                1.0   \n",
       "..        ...         ...              ...           ...                ...   \n",
       "92   0.048668    0.251196     3.184791e+06  2.164190e+05                0.0   \n",
       "93   0.048668    0.251196     3.184791e+06  2.164190e+05                0.0   \n",
       "94   0.048668    0.251196     3.184791e+06  2.164190e+05                NaN   \n",
       "95   0.048668    0.251196     3.184791e+06  2.164190e+05                NaN   \n",
       "96   0.048668    0.251196     3.184791e+06  2.164190e+05                NaN   \n",
       "\n",
       "    Amount ($1,000).1  Number .1  Unnamed: 10  Amount ($1,000).2  Number .2  \\\n",
       "1          16318089.0  3603088.0          NaN            31949.0      138.0   \n",
       "2            378394.0   105081.0          NaN          3536113.0    12621.0   \n",
       "3            800526.0   126455.0          NaN          2042267.0    10346.0   \n",
       "4            526206.0    32973.0          NaN          5705564.0    19639.0   \n",
       "5            539666.0     9593.0          NaN          3687502.0    13082.0   \n",
       "..                ...        ...          ...                ...        ...   \n",
       "92                0.0        0.0          NaN                0.0        0.0   \n",
       "93                0.0        0.0          NaN                0.0        0.0   \n",
       "94                NaN        NaN          NaN                NaN        NaN   \n",
       "95                NaN        NaN          NaN                NaN        NaN   \n",
       "96                NaN        NaN          NaN                NaN        NaN   \n",
       "\n",
       "    CC Amount/TA1  \n",
       "1         0.28000  \n",
       "2         0.02087  \n",
       "3         0.00000  \n",
       "4         0.00000  \n",
       "5         0.01000  \n",
       "..            ...  \n",
       "92        0.02087  \n",
       "93        0.02087  \n",
       "94        0.02087  \n",
       "95        0.02087  \n",
       "96        0.02087  \n",
       "\n",
       "[96 rows x 14 columns]"
      ],
      "text/html": "<div>\n<style scoped>\n    .dataframe tbody tr th:only-of-type {\n        vertical-align: middle;\n    }\n\n    .dataframe tbody tr th {\n        vertical-align: top;\n    }\n\n    .dataframe thead th {\n        text-align: right;\n    }\n</style>\n<table border=\"1\" class=\"dataframe\">\n  <thead>\n    <tr style=\"text-align: right;\">\n      <th></th>\n      <th>Name of Lending Institution</th>\n      <th>HQ State</th>\n      <th>Rank</th>\n      <th>TA Ratio1</th>\n      <th>TBL Ratio1</th>\n      <th>Amount ($1,000)</th>\n      <th>Number</th>\n      <th>Lender Asset Size</th>\n      <th>Amount ($1,000).1</th>\n      <th>Number .1</th>\n      <th>Unnamed: 10</th>\n      <th>Amount ($1,000).2</th>\n      <th>Number .2</th>\n      <th>CC Amount/TA1</th>\n    </tr>\n  </thead>\n  <tbody>\n    <tr>\n      <th>1</th>\n      <td>American Express Co.</td>\n      <td>NY</td>\n      <td>1</td>\n      <td>0.238290</td>\n      <td>0.999544</td>\n      <td>1.635004e+07</td>\n      <td>3.603226e+06</td>\n      <td>2.0</td>\n      <td>16318089.0</td>\n      <td>3603088.0</td>\n      <td>NaN</td>\n      <td>31949.0</td>\n      <td>138.0</td>\n      <td>0.28000</td>\n    </tr>\n    <tr>\n      <th>2</th>\n      <td>First Citizens Banchares</td>\n      <td>NC</td>\n      <td>2</td>\n      <td>0.187393</td>\n      <td>0.490830</td>\n      <td>3.914507e+06</td>\n      <td>1.177020e+05</td>\n      <td>1.0</td>\n      <td>378394.0</td>\n      <td>105081.0</td>\n      <td>NaN</td>\n      <td>3536113.0</td>\n      <td>12621.0</td>\n      <td>0.02087</td>\n    </tr>\n    <tr>\n      <th>3</th>\n      <td>Wintrust Financial Corp.</td>\n      <td>IL</td>\n      <td>3</td>\n      <td>0.168999</td>\n      <td>0.383561</td>\n      <td>2.842793e+06</td>\n      <td>1.368010e+05</td>\n      <td>1.0</td>\n      <td>800526.0</td>\n      <td>126455.0</td>\n      <td>NaN</td>\n      <td>2042267.0</td>\n      <td>10346.0</td>\n      <td>0.00000</td>\n    </tr>\n    <tr>\n      <th>4</th>\n      <td>Zions Bancorp</td>\n      <td>UT</td>\n      <td>4</td>\n      <td>0.117973</td>\n      <td>0.260577</td>\n      <td>6.231770e+06</td>\n      <td>5.261200e+04</td>\n      <td>2.0</td>\n      <td>526206.0</td>\n      <td>32973.0</td>\n      <td>NaN</td>\n      <td>5705564.0</td>\n      <td>19639.0</td>\n      <td>0.00000</td>\n    </tr>\n    <tr>\n      <th>5</th>\n      <td>Synovus Financial Corp.</td>\n      <td>GA</td>\n      <td>5</td>\n      <td>0.162333</td>\n      <td>0.381387</td>\n      <td>4.227168e+06</td>\n      <td>2.267500e+04</td>\n      <td>1.0</td>\n      <td>539666.0</td>\n      <td>9593.0</td>\n      <td>NaN</td>\n      <td>3687502.0</td>\n      <td>13082.0</td>\n      <td>0.01000</td>\n    </tr>\n    <tr>\n      <th>...</th>\n      <td>...</td>\n      <td>...</td>\n      <td>...</td>\n      <td>...</td>\n      <td>...</td>\n      <td>...</td>\n      <td>...</td>\n      <td>...</td>\n      <td>...</td>\n      <td>...</td>\n      <td>...</td>\n      <td>...</td>\n      <td>...</td>\n      <td>...</td>\n    </tr>\n    <tr>\n      <th>92</th>\n      <td>Charles Schwab Bk</td>\n      <td>NV</td>\n      <td>NR</td>\n      <td>0.048668</td>\n      <td>0.251196</td>\n      <td>3.184791e+06</td>\n      <td>2.164190e+05</td>\n      <td>0.0</td>\n      <td>0.0</td>\n      <td>0.0</td>\n      <td>NaN</td>\n      <td>0.0</td>\n      <td>0.0</td>\n      <td>0.02087</td>\n    </tr>\n    <tr>\n      <th>93</th>\n      <td>Third FS&amp;LA</td>\n      <td>OH</td>\n      <td>NR</td>\n      <td>0.048668</td>\n      <td>0.251196</td>\n      <td>3.184791e+06</td>\n      <td>2.164190e+05</td>\n      <td>0.0</td>\n      <td>0.0</td>\n      <td>0.0</td>\n      <td>NaN</td>\n      <td>0.0</td>\n      <td>0.0</td>\n      <td>0.02087</td>\n    </tr>\n    <tr>\n      <th>94</th>\n      <td>*The bank was formerly known as GE Money Bank,...</td>\n      <td>NaN</td>\n      <td>NaN</td>\n      <td>0.048668</td>\n      <td>0.251196</td>\n      <td>3.184791e+06</td>\n      <td>2.164190e+05</td>\n      <td>NaN</td>\n      <td>NaN</td>\n      <td>NaN</td>\n      <td>NaN</td>\n      <td>NaN</td>\n      <td>NaN</td>\n      <td>0.02087</td>\n    </tr>\n    <tr>\n      <th>95</th>\n      <td>1 TA = total domestic assets held by the lende...</td>\n      <td>NaN</td>\n      <td>NaN</td>\n      <td>0.048668</td>\n      <td>0.251196</td>\n      <td>3.184791e+06</td>\n      <td>2.164190e+05</td>\n      <td>NaN</td>\n      <td>NaN</td>\n      <td>NaN</td>\n      <td>NaN</td>\n      <td>NaN</td>\n      <td>NaN</td>\n      <td>0.02087</td>\n    </tr>\n    <tr>\n      <th>96</th>\n      <td>Source: U.S. Small Business Administration, Of...</td>\n      <td>NaN</td>\n      <td>NaN</td>\n      <td>0.048668</td>\n      <td>0.251196</td>\n      <td>3.184791e+06</td>\n      <td>2.164190e+05</td>\n      <td>NaN</td>\n      <td>NaN</td>\n      <td>NaN</td>\n      <td>NaN</td>\n      <td>NaN</td>\n      <td>NaN</td>\n      <td>0.02087</td>\n    </tr>\n  </tbody>\n</table>\n<p>96 rows × 14 columns</p>\n</div>"
     },
     "metadata": {},
     "execution_count": 45
    }
   ],
   "source": [
    "df1"
   ]
  },
  {
   "cell_type": "code",
   "execution_count": 11,
   "metadata": {},
   "outputs": [
    {
     "output_type": "execute_result",
     "data": {
      "text/plain": [
       "Name of Lending Institution     object\n",
       "HQ State                        object\n",
       "Rank                            object\n",
       "TA Ratio1                      float64\n",
       "TBL Ratio1                     float64\n",
       "Amount ($1,000)                float64\n",
       "Number                         float64\n",
       "Lender Asset Size              float64\n",
       "Amount ($1,000).1              float64\n",
       "Number .1                      float64\n",
       "Unnamed: 10                    float64\n",
       "Amount ($1,000).2              float64\n",
       "Number .2                      float64\n",
       "CC Amount/TA1                  float64\n",
       "dtype: object"
      ]
     },
     "metadata": {},
     "execution_count": 11
    }
   ],
   "source": [
    "df1.dtypes"
   ]
  },
  {
   "cell_type": "code",
   "execution_count": 12,
   "metadata": {},
   "outputs": [
    {
     "output_type": "execute_result",
     "data": {
      "text/plain": [
       "Name of Lending Institution     0\n",
       "HQ State                        3\n",
       "Rank                            3\n",
       "TA Ratio1                       0\n",
       "TBL Ratio1                      0\n",
       "Amount ($1,000)                 0\n",
       "Number                          0\n",
       "Lender Asset Size               3\n",
       "Amount ($1,000).1               3\n",
       "Number .1                       3\n",
       "Unnamed: 10                    96\n",
       "Amount ($1,000).2               3\n",
       "Number .2                       3\n",
       "CC Amount/TA1                   0\n",
       "dtype: int64"
      ]
     },
     "metadata": {},
     "execution_count": 12
    }
   ],
   "source": [
    "df1.isnull().sum()"
   ]
  },
  {
   "cell_type": "code",
   "execution_count": 15,
   "metadata": {},
   "outputs": [],
   "source": [
    "df1.to_csv('/Users/sameerkhan/Documents/DATA CLEANING/finaldata.csv')"
   ]
  },
  {
   "cell_type": "code",
   "execution_count": null,
   "metadata": {},
   "outputs": [],
   "source": []
  }
 ],
 "metadata": {
  "kernelspec": {
   "display_name": "Python 3",
   "language": "python",
   "name": "python3"
  },
  "language_info": {
   "codemirror_mode": {
    "name": "ipython",
    "version": 3
   },
   "file_extension": ".py",
   "mimetype": "text/x-python",
   "name": "python",
   "nbconvert_exporter": "python",
   "pygments_lexer": "ipython3",
   "version": "3.8.5"
  }
 },
 "nbformat": 4,
 "nbformat_minor": 4
}